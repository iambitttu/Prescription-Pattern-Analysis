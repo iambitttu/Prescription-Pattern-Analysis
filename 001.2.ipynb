{
 "cells": [
  {
   "cell_type": "code",
   "execution_count": 1,
   "id": "3322026a",
   "metadata": {},
   "outputs": [
    {
     "name": "stdout",
     "output_type": "stream",
     "text": [
      "Requirement already satisfied: pyarrow in c:\\users\\bittu\\anaconda3\\lib\\site-packages (10.0.1)\n",
      "Requirement already satisfied: numpy>=1.16.6 in c:\\users\\bittu\\anaconda3\\lib\\site-packages (from pyarrow) (1.21.5)\n",
      "Note: you may need to restart the kernel to use updated packages.\n"
     ]
    }
   ],
   "source": [
    "pip install pyarrow"
   ]
  },
  {
   "cell_type": "code",
   "execution_count": 2,
   "id": "7873c487",
   "metadata": {},
   "outputs": [
    {
     "name": "stdout",
     "output_type": "stream",
     "text": [
      "<pyarrow._parquet.ParquetSchema object at 0x0000029A0EA0EF80>\n",
      "required group field_id=-1 schema {\n",
      "  optional binary field_id=-1 Patient-Uid (String);\n",
      "  optional int64 field_id=-1 Date (Timestamp(isAdjustedToUTC=false, timeUnit=microseconds, is_from_converted_type=false, force_set_converted_type=false));\n",
      "  optional binary field_id=-1 Incident (String);\n",
      "  optional int64 field_id=-1 __index_level_0__;\n",
      "}\n",
      "\n",
      "                                  Patient-Uid       Date        Incident\n",
      "0        a0f9e8a9-1c7c-11ec-8d25-16262ee38c7f 2016-12-08  SYMPTOM_TYPE_0\n",
      "1        a0f9e8a9-1c7c-11ec-8d25-16262ee38c7f 2018-10-17     DRUG_TYPE_0\n",
      "2        a0f9e8a9-1c7c-11ec-8d25-16262ee38c7f 2017-12-01     DRUG_TYPE_2\n",
      "3        a0f9e8a9-1c7c-11ec-8d25-16262ee38c7f 2018-12-05     DRUG_TYPE_1\n",
      "4        a0f9e8a9-1c7c-11ec-8d25-16262ee38c7f 2017-11-04  SYMPTOM_TYPE_0\n",
      "...                                       ...        ...             ...\n",
      "1372854  a10272c9-1c7c-11ec-b3ce-16262ee38c7f 2017-05-11    DRUG_TYPE_13\n",
      "1372856  a10272c9-1c7c-11ec-b3ce-16262ee38c7f 2018-08-22     DRUG_TYPE_2\n",
      "1372857  a10272c9-1c7c-11ec-b3ce-16262ee38c7f 2017-02-04     DRUG_TYPE_2\n",
      "1372858  a10272c9-1c7c-11ec-b3ce-16262ee38c7f 2017-09-25     DRUG_TYPE_8\n",
      "1372859  a10272c9-1c7c-11ec-b3ce-16262ee38c7f 2017-05-19     DRUG_TYPE_7\n",
      "\n",
      "[1065524 rows x 3 columns]\n"
     ]
    }
   ],
   "source": [
    "import pyarrow.parquet as pq\n",
    "\n",
    "# Open the Parquet file\n",
    "parquet_file = pq.ParquetFile('test.parquet')\n",
    "\n",
    "# Read the metadata of the file\n",
    "metadata = parquet_file.metadata\n",
    "\n",
    "# Get the number of row groups in the file\n",
    "num_row_groups = metadata.num_row_groups\n",
    "\n",
    "# Read and print the schema of the Parquet file\n",
    "schema = metadata.schema\n",
    "print(schema)\n",
    "\n",
    "# Iterate over each row group and read the data\n",
    "for i in range(num_row_groups):\n",
    "    # Read a specific row group\n",
    "    row_group = parquet_file.read_row_group(i)\n",
    "\n",
    "    # Get the column names\n",
    "    column_names = row_group.schema.names\n",
    "\n",
    "    # Read the data from the row group\n",
    "    table = row_group.to_pandas()\n",
    "    print(table)\n"
   ]
  },
  {
   "cell_type": "code",
   "execution_count": 3,
   "id": "a62f22eb",
   "metadata": {},
   "outputs": [
    {
     "name": "stdout",
     "output_type": "stream",
     "text": [
      "<pyarrow._parquet.ParquetSchema object at 0x0000029A0EA0EF80>\n",
      "required group field_id=-1 schema {\n",
      "  optional binary field_id=-1 Patient-Uid (String);\n",
      "  optional int64 field_id=-1 Date (Timestamp(isAdjustedToUTC=false, timeUnit=microseconds, is_from_converted_type=false, force_set_converted_type=false));\n",
      "  optional binary field_id=-1 Incident (String);\n",
      "  optional int64 field_id=-1 __index_level_0__;\n",
      "}\n",
      "\n"
     ]
    }
   ],
   "source": [
    "schema = metadata.schema\n",
    "print(schema)"
   ]
  },
  {
   "cell_type": "code",
   "execution_count": 4,
   "id": "97868895",
   "metadata": {},
   "outputs": [
    {
     "data": {
      "text/plain": [
       "<pyarrow._parquet.FileMetaData object at 0x0000029A13303D10>\n",
       "  created_by: parquet-cpp-arrow version 4.0.1\n",
       "  num_columns: 4\n",
       "  num_rows: 1065524\n",
       "  num_row_groups: 1\n",
       "  format_version: 1.0\n",
       "  serialized_size: 2909"
      ]
     },
     "execution_count": 4,
     "metadata": {},
     "output_type": "execute_result"
    }
   ],
   "source": [
    "metadata = parquet_file.metadata\n",
    "metadata"
   ]
  },
  {
   "cell_type": "code",
   "execution_count": 5,
   "id": "56a9f160",
   "metadata": {},
   "outputs": [
    {
     "data": {
      "text/plain": [
       "1"
      ]
     },
     "execution_count": 5,
     "metadata": {},
     "output_type": "execute_result"
    }
   ],
   "source": [
    "num_row_groups = metadata.num_row_groups\n",
    "num_row_groups"
   ]
  },
  {
   "cell_type": "code",
   "execution_count": 6,
   "id": "b727dec0",
   "metadata": {},
   "outputs": [],
   "source": [
    "# Iterate over each row group and read the data\n",
    "for i in range(num_row_groups):\n",
    "    # Read a specific row group\n",
    "    row_group = parquet_file.read_row_group(i)"
   ]
  },
  {
   "cell_type": "code",
   "execution_count": 7,
   "id": "a36631af",
   "metadata": {},
   "outputs": [
    {
     "data": {
      "text/plain": [
       "pyarrow.Table\n",
       "Patient-Uid: string\n",
       "Date: timestamp[us]\n",
       "Incident: string\n",
       "__index_level_0__: int64\n",
       "----\n",
       "Patient-Uid: [[\"a0f9e8a9-1c7c-11ec-8d25-16262ee38c7f\",\"a0f9e8a9-1c7c-11ec-8d25-16262ee38c7f\",\"a0f9e8a9-1c7c-11ec-8d25-16262ee38c7f\",\"a0f9e8a9-1c7c-11ec-8d25-16262ee38c7f\",\"a0f9e8a9-1c7c-11ec-8d25-16262ee38c7f\",...,\"a10272c9-1c7c-11ec-b3ce-16262ee38c7f\",\"a10272c9-1c7c-11ec-b3ce-16262ee38c7f\",\"a10272c9-1c7c-11ec-b3ce-16262ee38c7f\",\"a10272c9-1c7c-11ec-b3ce-16262ee38c7f\",\"a10272c9-1c7c-11ec-b3ce-16262ee38c7f\"]]\n",
       "Date: [[2016-12-08 00:00:00.000000,2018-10-17 00:00:00.000000,2017-12-01 00:00:00.000000,2018-12-05 00:00:00.000000,2017-11-04 00:00:00.000000,...,2017-05-11 00:00:00.000000,2018-08-22 00:00:00.000000,2017-02-04 00:00:00.000000,2017-09-25 00:00:00.000000,2017-05-19 00:00:00.000000]]\n",
       "Incident: [[\"SYMPTOM_TYPE_0\",\"DRUG_TYPE_0\",\"DRUG_TYPE_2\",\"DRUG_TYPE_1\",\"SYMPTOM_TYPE_0\",...,\"DRUG_TYPE_13\",\"DRUG_TYPE_2\",\"DRUG_TYPE_2\",\"DRUG_TYPE_8\",\"DRUG_TYPE_7\"]]\n",
       "__index_level_0__: [[0,1,2,3,4,...,1372854,1372856,1372857,1372858,1372859]]"
      ]
     },
     "execution_count": 7,
     "metadata": {},
     "output_type": "execute_result"
    }
   ],
   "source": [
    "row_group"
   ]
  },
  {
   "cell_type": "code",
   "execution_count": 8,
   "id": "c4cf4bae",
   "metadata": {},
   "outputs": [
    {
     "data": {
      "text/plain": [
       "['Patient-Uid', 'Date', 'Incident', '__index_level_0__']"
      ]
     },
     "execution_count": 8,
     "metadata": {},
     "output_type": "execute_result"
    }
   ],
   "source": [
    "column_names = row_group.schema.names\n",
    "column_names"
   ]
  },
  {
   "cell_type": "code",
   "execution_count": 9,
   "id": "d6294628",
   "metadata": {},
   "outputs": [
    {
     "name": "stdout",
     "output_type": "stream",
     "text": [
      "                                  Patient-Uid       Date        Incident\n",
      "0        a0f9e8a9-1c7c-11ec-8d25-16262ee38c7f 2016-12-08  SYMPTOM_TYPE_0\n",
      "1        a0f9e8a9-1c7c-11ec-8d25-16262ee38c7f 2018-10-17     DRUG_TYPE_0\n",
      "2        a0f9e8a9-1c7c-11ec-8d25-16262ee38c7f 2017-12-01     DRUG_TYPE_2\n",
      "3        a0f9e8a9-1c7c-11ec-8d25-16262ee38c7f 2018-12-05     DRUG_TYPE_1\n",
      "4        a0f9e8a9-1c7c-11ec-8d25-16262ee38c7f 2017-11-04  SYMPTOM_TYPE_0\n",
      "...                                       ...        ...             ...\n",
      "1372854  a10272c9-1c7c-11ec-b3ce-16262ee38c7f 2017-05-11    DRUG_TYPE_13\n",
      "1372856  a10272c9-1c7c-11ec-b3ce-16262ee38c7f 2018-08-22     DRUG_TYPE_2\n",
      "1372857  a10272c9-1c7c-11ec-b3ce-16262ee38c7f 2017-02-04     DRUG_TYPE_2\n",
      "1372858  a10272c9-1c7c-11ec-b3ce-16262ee38c7f 2017-09-25     DRUG_TYPE_8\n",
      "1372859  a10272c9-1c7c-11ec-b3ce-16262ee38c7f 2017-05-19     DRUG_TYPE_7\n",
      "\n",
      "[1065524 rows x 3 columns]\n"
     ]
    }
   ],
   "source": [
    "table = row_group.to_pandas()\n",
    "print(table)"
   ]
  },
  {
   "cell_type": "code",
   "execution_count": 10,
   "id": "66f2b088",
   "metadata": {},
   "outputs": [],
   "source": [
    "import pandas as pd\n",
    "df = pd.DataFrame(table)"
   ]
  },
  {
   "cell_type": "code",
   "execution_count": 11,
   "id": "4cf874ac",
   "metadata": {},
   "outputs": [
    {
     "data": {
      "text/html": [
       "<div>\n",
       "<style scoped>\n",
       "    .dataframe tbody tr th:only-of-type {\n",
       "        vertical-align: middle;\n",
       "    }\n",
       "\n",
       "    .dataframe tbody tr th {\n",
       "        vertical-align: top;\n",
       "    }\n",
       "\n",
       "    .dataframe thead th {\n",
       "        text-align: right;\n",
       "    }\n",
       "</style>\n",
       "<table border=\"1\" class=\"dataframe\">\n",
       "  <thead>\n",
       "    <tr style=\"text-align: right;\">\n",
       "      <th></th>\n",
       "      <th>Patient-Uid</th>\n",
       "      <th>Date</th>\n",
       "      <th>Incident</th>\n",
       "    </tr>\n",
       "  </thead>\n",
       "  <tbody>\n",
       "    <tr>\n",
       "      <th>0</th>\n",
       "      <td>a0f9e8a9-1c7c-11ec-8d25-16262ee38c7f</td>\n",
       "      <td>2016-12-08</td>\n",
       "      <td>SYMPTOM_TYPE_0</td>\n",
       "    </tr>\n",
       "    <tr>\n",
       "      <th>1</th>\n",
       "      <td>a0f9e8a9-1c7c-11ec-8d25-16262ee38c7f</td>\n",
       "      <td>2018-10-17</td>\n",
       "      <td>DRUG_TYPE_0</td>\n",
       "    </tr>\n",
       "    <tr>\n",
       "      <th>2</th>\n",
       "      <td>a0f9e8a9-1c7c-11ec-8d25-16262ee38c7f</td>\n",
       "      <td>2017-12-01</td>\n",
       "      <td>DRUG_TYPE_2</td>\n",
       "    </tr>\n",
       "    <tr>\n",
       "      <th>3</th>\n",
       "      <td>a0f9e8a9-1c7c-11ec-8d25-16262ee38c7f</td>\n",
       "      <td>2018-12-05</td>\n",
       "      <td>DRUG_TYPE_1</td>\n",
       "    </tr>\n",
       "    <tr>\n",
       "      <th>4</th>\n",
       "      <td>a0f9e8a9-1c7c-11ec-8d25-16262ee38c7f</td>\n",
       "      <td>2017-11-04</td>\n",
       "      <td>SYMPTOM_TYPE_0</td>\n",
       "    </tr>\n",
       "    <tr>\n",
       "      <th>...</th>\n",
       "      <td>...</td>\n",
       "      <td>...</td>\n",
       "      <td>...</td>\n",
       "    </tr>\n",
       "    <tr>\n",
       "      <th>1372854</th>\n",
       "      <td>a10272c9-1c7c-11ec-b3ce-16262ee38c7f</td>\n",
       "      <td>2017-05-11</td>\n",
       "      <td>DRUG_TYPE_13</td>\n",
       "    </tr>\n",
       "    <tr>\n",
       "      <th>1372856</th>\n",
       "      <td>a10272c9-1c7c-11ec-b3ce-16262ee38c7f</td>\n",
       "      <td>2018-08-22</td>\n",
       "      <td>DRUG_TYPE_2</td>\n",
       "    </tr>\n",
       "    <tr>\n",
       "      <th>1372857</th>\n",
       "      <td>a10272c9-1c7c-11ec-b3ce-16262ee38c7f</td>\n",
       "      <td>2017-02-04</td>\n",
       "      <td>DRUG_TYPE_2</td>\n",
       "    </tr>\n",
       "    <tr>\n",
       "      <th>1372858</th>\n",
       "      <td>a10272c9-1c7c-11ec-b3ce-16262ee38c7f</td>\n",
       "      <td>2017-09-25</td>\n",
       "      <td>DRUG_TYPE_8</td>\n",
       "    </tr>\n",
       "    <tr>\n",
       "      <th>1372859</th>\n",
       "      <td>a10272c9-1c7c-11ec-b3ce-16262ee38c7f</td>\n",
       "      <td>2017-05-19</td>\n",
       "      <td>DRUG_TYPE_7</td>\n",
       "    </tr>\n",
       "  </tbody>\n",
       "</table>\n",
       "<p>1065524 rows × 3 columns</p>\n",
       "</div>"
      ],
      "text/plain": [
       "                                  Patient-Uid       Date        Incident\n",
       "0        a0f9e8a9-1c7c-11ec-8d25-16262ee38c7f 2016-12-08  SYMPTOM_TYPE_0\n",
       "1        a0f9e8a9-1c7c-11ec-8d25-16262ee38c7f 2018-10-17     DRUG_TYPE_0\n",
       "2        a0f9e8a9-1c7c-11ec-8d25-16262ee38c7f 2017-12-01     DRUG_TYPE_2\n",
       "3        a0f9e8a9-1c7c-11ec-8d25-16262ee38c7f 2018-12-05     DRUG_TYPE_1\n",
       "4        a0f9e8a9-1c7c-11ec-8d25-16262ee38c7f 2017-11-04  SYMPTOM_TYPE_0\n",
       "...                                       ...        ...             ...\n",
       "1372854  a10272c9-1c7c-11ec-b3ce-16262ee38c7f 2017-05-11    DRUG_TYPE_13\n",
       "1372856  a10272c9-1c7c-11ec-b3ce-16262ee38c7f 2018-08-22     DRUG_TYPE_2\n",
       "1372857  a10272c9-1c7c-11ec-b3ce-16262ee38c7f 2017-02-04     DRUG_TYPE_2\n",
       "1372858  a10272c9-1c7c-11ec-b3ce-16262ee38c7f 2017-09-25     DRUG_TYPE_8\n",
       "1372859  a10272c9-1c7c-11ec-b3ce-16262ee38c7f 2017-05-19     DRUG_TYPE_7\n",
       "\n",
       "[1065524 rows x 3 columns]"
      ]
     },
     "execution_count": 11,
     "metadata": {},
     "output_type": "execute_result"
    }
   ],
   "source": [
    "df"
   ]
  },
  {
   "cell_type": "code",
   "execution_count": 12,
   "id": "836404a7",
   "metadata": {},
   "outputs": [
    {
     "name": "stdout",
     "output_type": "stream",
     "text": [
      "<class 'pandas.core.frame.DataFrame'>\n",
      "Int64Index: 1065524 entries, 0 to 1372859\n",
      "Data columns (total 3 columns):\n",
      " #   Column       Non-Null Count    Dtype         \n",
      "---  ------       --------------    -----         \n",
      " 0   Patient-Uid  1065524 non-null  object        \n",
      " 1   Date         1065524 non-null  datetime64[ns]\n",
      " 2   Incident     1065524 non-null  object        \n",
      "dtypes: datetime64[ns](1), object(2)\n",
      "memory usage: 32.5+ MB\n"
     ]
    }
   ],
   "source": [
    "df.info()"
   ]
  },
  {
   "cell_type": "code",
   "execution_count": 13,
   "id": "a8506ef7",
   "metadata": {},
   "outputs": [
    {
     "name": "stderr",
     "output_type": "stream",
     "text": [
      "C:\\Users\\bittu\\AppData\\Local\\Temp\\ipykernel_14968\\3627053830.py:1: FutureWarning: Treating datetime data as categorical rather than numeric in `.describe` is deprecated and will be removed in a future version of pandas. Specify `datetime_is_numeric=True` to silence this warning and adopt the future behavior now.\n",
      "  df.describe()\n"
     ]
    },
    {
     "data": {
      "text/html": [
       "<div>\n",
       "<style scoped>\n",
       "    .dataframe tbody tr th:only-of-type {\n",
       "        vertical-align: middle;\n",
       "    }\n",
       "\n",
       "    .dataframe tbody tr th {\n",
       "        vertical-align: top;\n",
       "    }\n",
       "\n",
       "    .dataframe thead th {\n",
       "        text-align: right;\n",
       "    }\n",
       "</style>\n",
       "<table border=\"1\" class=\"dataframe\">\n",
       "  <thead>\n",
       "    <tr style=\"text-align: right;\">\n",
       "      <th></th>\n",
       "      <th>Patient-Uid</th>\n",
       "      <th>Date</th>\n",
       "      <th>Incident</th>\n",
       "    </tr>\n",
       "  </thead>\n",
       "  <tbody>\n",
       "    <tr>\n",
       "      <th>count</th>\n",
       "      <td>1065524</td>\n",
       "      <td>1065524</td>\n",
       "      <td>1065524</td>\n",
       "    </tr>\n",
       "    <tr>\n",
       "      <th>unique</th>\n",
       "      <td>11482</td>\n",
       "      <td>1947</td>\n",
       "      <td>55</td>\n",
       "    </tr>\n",
       "    <tr>\n",
       "      <th>top</th>\n",
       "      <td>a0faa6ed-1c7c-11ec-8f6f-16262ee38c7f</td>\n",
       "      <td>2018-03-13 00:00:00</td>\n",
       "      <td>DRUG_TYPE_6</td>\n",
       "    </tr>\n",
       "    <tr>\n",
       "      <th>freq</th>\n",
       "      <td>1236</td>\n",
       "      <td>1139</td>\n",
       "      <td>192292</td>\n",
       "    </tr>\n",
       "    <tr>\n",
       "      <th>first</th>\n",
       "      <td>NaN</td>\n",
       "      <td>2015-04-07 00:00:00</td>\n",
       "      <td>NaN</td>\n",
       "    </tr>\n",
       "    <tr>\n",
       "      <th>last</th>\n",
       "      <td>NaN</td>\n",
       "      <td>2020-08-04 00:00:00</td>\n",
       "      <td>NaN</td>\n",
       "    </tr>\n",
       "  </tbody>\n",
       "</table>\n",
       "</div>"
      ],
      "text/plain": [
       "                                 Patient-Uid                 Date     Incident\n",
       "count                                1065524              1065524      1065524\n",
       "unique                                 11482                 1947           55\n",
       "top     a0faa6ed-1c7c-11ec-8f6f-16262ee38c7f  2018-03-13 00:00:00  DRUG_TYPE_6\n",
       "freq                                    1236                 1139       192292\n",
       "first                                    NaN  2015-04-07 00:00:00          NaN\n",
       "last                                     NaN  2020-08-04 00:00:00          NaN"
      ]
     },
     "execution_count": 13,
     "metadata": {},
     "output_type": "execute_result"
    }
   ],
   "source": [
    "df.describe()"
   ]
  },
  {
   "cell_type": "code",
   "execution_count": 14,
   "id": "08aba8b7",
   "metadata": {},
   "outputs": [
    {
     "data": {
      "text/plain": [
       "Patient-Uid    0\n",
       "Date           0\n",
       "Incident       0\n",
       "dtype: int64"
      ]
     },
     "execution_count": 14,
     "metadata": {},
     "output_type": "execute_result"
    }
   ],
   "source": [
    "df.isnull().sum()"
   ]
  },
  {
   "cell_type": "code",
   "execution_count": 15,
   "id": "2528347b",
   "metadata": {},
   "outputs": [
    {
     "data": {
      "text/plain": [
       "Patient-Uid                           Date        Incident         \n",
       "a0fd2dab-1c7c-11ec-9df8-16262ee38c7f  2019-04-04  DRUG_TYPE_6          6\n",
       "a0fad6b2-1c7c-11ec-b0ea-16262ee38c7f  2019-05-11  DRUG_TYPE_6          6\n",
       "a0fb5ad4-1c7c-11ec-abd0-16262ee38c7f  2017-07-12  DRUG_TYPE_6          5\n",
       "a0fadb88-1c7c-11ec-9739-16262ee38c7f  2018-02-22  DRUG_TYPE_6          5\n",
       "a0ff2c90-1c7c-11ec-8875-16262ee38c7f  2019-03-01  DRUG_TYPE_6          5\n",
       "                                                                      ..\n",
       "a0fca06f-1c7c-11ec-8cf1-16262ee38c7f  2017-01-10  PRIMARY_DIAGNOSIS    1\n",
       "                                                  SYMPTOM_TYPE_0       1\n",
       "                                      2017-01-11  PRIMARY_DIAGNOSIS    1\n",
       "                                      2017-01-22  DRUG_TYPE_2          1\n",
       "a0fe2b57-1c7c-11ec-baca-16262ee38c7f  2019-10-12  DRUG_TYPE_0          1\n",
       "Length: 1053424, dtype: int64"
      ]
     },
     "execution_count": 15,
     "metadata": {},
     "output_type": "execute_result"
    }
   ],
   "source": [
    "df.value_counts()"
   ]
  },
  {
   "cell_type": "code",
   "execution_count": 16,
   "id": "5a08cc32",
   "metadata": {},
   "outputs": [
    {
     "data": {
      "text/plain": [
       "Index(['Patient-Uid', 'Date', 'Incident'], dtype='object')"
      ]
     },
     "execution_count": 16,
     "metadata": {},
     "output_type": "execute_result"
    }
   ],
   "source": [
    "df.columns"
   ]
  },
  {
   "cell_type": "code",
   "execution_count": 17,
   "id": "7eb9ead4",
   "metadata": {},
   "outputs": [
    {
     "data": {
      "text/plain": [
       "Patient-Uid    11482\n",
       "Date            1947\n",
       "Incident          55\n",
       "dtype: int64"
      ]
     },
     "execution_count": 17,
     "metadata": {},
     "output_type": "execute_result"
    }
   ],
   "source": [
    "df.nunique()"
   ]
  },
  {
   "cell_type": "code",
   "execution_count": 18,
   "id": "a26e9a78",
   "metadata": {},
   "outputs": [
    {
     "data": {
      "text/html": [
       "<div>\n",
       "<style scoped>\n",
       "    .dataframe tbody tr th:only-of-type {\n",
       "        vertical-align: middle;\n",
       "    }\n",
       "\n",
       "    .dataframe tbody tr th {\n",
       "        vertical-align: top;\n",
       "    }\n",
       "\n",
       "    .dataframe thead th {\n",
       "        text-align: right;\n",
       "    }\n",
       "</style>\n",
       "<table border=\"1\" class=\"dataframe\">\n",
       "  <thead>\n",
       "    <tr style=\"text-align: right;\">\n",
       "      <th></th>\n",
       "      <th>Patient-Uid</th>\n",
       "      <th>Date</th>\n",
       "      <th>Incident</th>\n",
       "    </tr>\n",
       "  </thead>\n",
       "  <tbody>\n",
       "    <tr>\n",
       "      <th>942030</th>\n",
       "      <td>a10050af-1c7c-11ec-bb16-16262ee38c7f</td>\n",
       "      <td>2017-05-19</td>\n",
       "      <td>DRUG_TYPE_2</td>\n",
       "    </tr>\n",
       "    <tr>\n",
       "      <th>1183173</th>\n",
       "      <td>a1016af4-1c7c-11ec-a609-16262ee38c7f</td>\n",
       "      <td>2017-09-20</td>\n",
       "      <td>DRUG_TYPE_10</td>\n",
       "    </tr>\n",
       "    <tr>\n",
       "      <th>1303869</th>\n",
       "      <td>a1020c51-1c7c-11ec-b8ea-16262ee38c7f</td>\n",
       "      <td>2017-02-08</td>\n",
       "      <td>DRUG_TYPE_0</td>\n",
       "    </tr>\n",
       "    <tr>\n",
       "      <th>430435</th>\n",
       "      <td>a0fcc80c-1c7c-11ec-99a7-16262ee38c7f</td>\n",
       "      <td>2015-08-11</td>\n",
       "      <td>DRUG_TYPE_7</td>\n",
       "    </tr>\n",
       "    <tr>\n",
       "      <th>1217131</th>\n",
       "      <td>a10193ff-1c7c-11ec-b30a-16262ee38c7f</td>\n",
       "      <td>2018-04-27</td>\n",
       "      <td>PRIMARY_DIAGNOSIS</td>\n",
       "    </tr>\n",
       "    <tr>\n",
       "      <th>216612</th>\n",
       "      <td>a0fb4d9a-1c7c-11ec-9050-16262ee38c7f</td>\n",
       "      <td>2017-03-31</td>\n",
       "      <td>SYMPTOM_TYPE_4</td>\n",
       "    </tr>\n",
       "    <tr>\n",
       "      <th>10693</th>\n",
       "      <td>a0f9fb38-1c7c-11ec-b7bb-16262ee38c7f</td>\n",
       "      <td>2016-11-01</td>\n",
       "      <td>TEST_TYPE_1</td>\n",
       "    </tr>\n",
       "    <tr>\n",
       "      <th>226987</th>\n",
       "      <td>a0fb5f9f-1c7c-11ec-a6a4-16262ee38c7f</td>\n",
       "      <td>2016-05-15</td>\n",
       "      <td>PRIMARY_DIAGNOSIS</td>\n",
       "    </tr>\n",
       "    <tr>\n",
       "      <th>632222</th>\n",
       "      <td>a0fe5bc5-1c7c-11ec-92c2-16262ee38c7f</td>\n",
       "      <td>2019-02-14</td>\n",
       "      <td>DRUG_TYPE_7</td>\n",
       "    </tr>\n",
       "    <tr>\n",
       "      <th>493503</th>\n",
       "      <td>a0fd445b-1c7c-11ec-ba2f-16262ee38c7f</td>\n",
       "      <td>2018-05-15</td>\n",
       "      <td>DRUG_TYPE_2</td>\n",
       "    </tr>\n",
       "    <tr>\n",
       "      <th>346590</th>\n",
       "      <td>a0fc34a0-1c7c-11ec-9d50-16262ee38c7f</td>\n",
       "      <td>2016-06-25</td>\n",
       "      <td>PRIMARY_DIAGNOSIS</td>\n",
       "    </tr>\n",
       "    <tr>\n",
       "      <th>858311</th>\n",
       "      <td>a0fff99f-1c7c-11ec-9a01-16262ee38c7f</td>\n",
       "      <td>2019-04-05</td>\n",
       "      <td>DRUG_TYPE_6</td>\n",
       "    </tr>\n",
       "    <tr>\n",
       "      <th>32711</th>\n",
       "      <td>a0fa1e65-1c7c-11ec-a0d0-16262ee38c7f</td>\n",
       "      <td>2016-07-22</td>\n",
       "      <td>DRUG_TYPE_7</td>\n",
       "    </tr>\n",
       "    <tr>\n",
       "      <th>441938</th>\n",
       "      <td>a0fcdedd-1c7c-11ec-b0b0-16262ee38c7f</td>\n",
       "      <td>2017-07-29</td>\n",
       "      <td>SYMPTOM_TYPE_7</td>\n",
       "    </tr>\n",
       "    <tr>\n",
       "      <th>1304961</th>\n",
       "      <td>a1020dcf-1c7c-11ec-8730-16262ee38c7f</td>\n",
       "      <td>2015-06-19</td>\n",
       "      <td>DRUG_TYPE_3</td>\n",
       "    </tr>\n",
       "    <tr>\n",
       "      <th>689484</th>\n",
       "      <td>a0fed9dc-1c7c-11ec-9a20-16262ee38c7f</td>\n",
       "      <td>2017-09-04</td>\n",
       "      <td>DRUG_TYPE_6</td>\n",
       "    </tr>\n",
       "    <tr>\n",
       "      <th>848362</th>\n",
       "      <td>a0ffed7f-1c7c-11ec-a163-16262ee38c7f</td>\n",
       "      <td>2018-05-23</td>\n",
       "      <td>TEST_TYPE_1</td>\n",
       "    </tr>\n",
       "    <tr>\n",
       "      <th>596275</th>\n",
       "      <td>a0fe108a-1c7c-11ec-be35-16262ee38c7f</td>\n",
       "      <td>2018-02-16</td>\n",
       "      <td>PRIMARY_DIAGNOSIS</td>\n",
       "    </tr>\n",
       "    <tr>\n",
       "      <th>479205</th>\n",
       "      <td>a0fd273e-1c7c-11ec-8a56-16262ee38c7f</td>\n",
       "      <td>2015-05-01</td>\n",
       "      <td>DRUG_TYPE_0</td>\n",
       "    </tr>\n",
       "    <tr>\n",
       "      <th>827772</th>\n",
       "      <td>a0ffd608-1c7c-11ec-8b0e-16262ee38c7f</td>\n",
       "      <td>2015-10-29</td>\n",
       "      <td>SYMPTOM_TYPE_0</td>\n",
       "    </tr>\n",
       "  </tbody>\n",
       "</table>\n",
       "</div>"
      ],
      "text/plain": [
       "                                  Patient-Uid       Date           Incident\n",
       "942030   a10050af-1c7c-11ec-bb16-16262ee38c7f 2017-05-19        DRUG_TYPE_2\n",
       "1183173  a1016af4-1c7c-11ec-a609-16262ee38c7f 2017-09-20       DRUG_TYPE_10\n",
       "1303869  a1020c51-1c7c-11ec-b8ea-16262ee38c7f 2017-02-08        DRUG_TYPE_0\n",
       "430435   a0fcc80c-1c7c-11ec-99a7-16262ee38c7f 2015-08-11        DRUG_TYPE_7\n",
       "1217131  a10193ff-1c7c-11ec-b30a-16262ee38c7f 2018-04-27  PRIMARY_DIAGNOSIS\n",
       "216612   a0fb4d9a-1c7c-11ec-9050-16262ee38c7f 2017-03-31     SYMPTOM_TYPE_4\n",
       "10693    a0f9fb38-1c7c-11ec-b7bb-16262ee38c7f 2016-11-01        TEST_TYPE_1\n",
       "226987   a0fb5f9f-1c7c-11ec-a6a4-16262ee38c7f 2016-05-15  PRIMARY_DIAGNOSIS\n",
       "632222   a0fe5bc5-1c7c-11ec-92c2-16262ee38c7f 2019-02-14        DRUG_TYPE_7\n",
       "493503   a0fd445b-1c7c-11ec-ba2f-16262ee38c7f 2018-05-15        DRUG_TYPE_2\n",
       "346590   a0fc34a0-1c7c-11ec-9d50-16262ee38c7f 2016-06-25  PRIMARY_DIAGNOSIS\n",
       "858311   a0fff99f-1c7c-11ec-9a01-16262ee38c7f 2019-04-05        DRUG_TYPE_6\n",
       "32711    a0fa1e65-1c7c-11ec-a0d0-16262ee38c7f 2016-07-22        DRUG_TYPE_7\n",
       "441938   a0fcdedd-1c7c-11ec-b0b0-16262ee38c7f 2017-07-29     SYMPTOM_TYPE_7\n",
       "1304961  a1020dcf-1c7c-11ec-8730-16262ee38c7f 2015-06-19        DRUG_TYPE_3\n",
       "689484   a0fed9dc-1c7c-11ec-9a20-16262ee38c7f 2017-09-04        DRUG_TYPE_6\n",
       "848362   a0ffed7f-1c7c-11ec-a163-16262ee38c7f 2018-05-23        TEST_TYPE_1\n",
       "596275   a0fe108a-1c7c-11ec-be35-16262ee38c7f 2018-02-16  PRIMARY_DIAGNOSIS\n",
       "479205   a0fd273e-1c7c-11ec-8a56-16262ee38c7f 2015-05-01        DRUG_TYPE_0\n",
       "827772   a0ffd608-1c7c-11ec-8b0e-16262ee38c7f 2015-10-29     SYMPTOM_TYPE_0"
      ]
     },
     "execution_count": 18,
     "metadata": {},
     "output_type": "execute_result"
    }
   ],
   "source": [
    "df.sample(20)"
   ]
  },
  {
   "cell_type": "code",
   "execution_count": 19,
   "id": "9fef2664",
   "metadata": {},
   "outputs": [
    {
     "data": {
      "text/plain": [
       "array(['SYMPTOM_TYPE_0', 'DRUG_TYPE_0', 'DRUG_TYPE_2', 'DRUG_TYPE_1',\n",
       "       'PRIMARY_DIAGNOSIS', 'DRUG_TYPE_8', 'TEST_TYPE_0', 'DRUG_TYPE_7',\n",
       "       'DRUG_TYPE_11', 'SYMPTOM_TYPE_6', 'DRUG_TYPE_5', 'DRUG_TYPE_6',\n",
       "       'DRUG_TYPE_9', 'DRUG_TYPE_15', 'TEST_TYPE_3', 'SYMPTOM_TYPE_3',\n",
       "       'TEST_TYPE_1', 'DRUG_TYPE_3', 'TEST_TYPE_2', 'SYMPTOM_TYPE_7',\n",
       "       'DRUG_TYPE_12', 'SYMPTOM_TYPE_2', 'SYMPTOM_TYPE_10',\n",
       "       'SYMPTOM_TYPE_1', 'SYMPTOM_TYPE_17', 'SYMPTOM_TYPE_18',\n",
       "       'SYMPTOM_TYPE_5', 'SYMPTOM_TYPE_15', 'SYMPTOM_TYPE_9',\n",
       "       'SYMPTOM_TYPE_4', 'SYMPTOM_TYPE_8', 'SYMPTOM_TYPE_29',\n",
       "       'DRUG_TYPE_13', 'SYMPTOM_TYPE_21', 'DRUG_TYPE_4',\n",
       "       'SYMPTOM_TYPE_12', 'SYMPTOM_TYPE_11', 'SYMPTOM_TYPE_19',\n",
       "       'DRUG_TYPE_14', 'SYMPTOM_TYPE_16', 'TEST_TYPE_4', 'DRUG_TYPE_10',\n",
       "       'SYMPTOM_TYPE_26', 'SYMPTOM_TYPE_14', 'SYMPTOM_TYPE_24',\n",
       "       'DRUG_TYPE_16', 'SYMPTOM_TYPE_13', 'TEST_TYPE_5',\n",
       "       'SYMPTOM_TYPE_20', 'SYMPTOM_TYPE_25', 'SYMPTOM_TYPE_22',\n",
       "       'DRUG_TYPE_17', 'SYMPTOM_TYPE_27', 'SYMPTOM_TYPE_23',\n",
       "       'SYMPTOM_TYPE_28'], dtype=object)"
      ]
     },
     "execution_count": 19,
     "metadata": {},
     "output_type": "execute_result"
    }
   ],
   "source": [
    "df.Incident.unique()"
   ]
  },
  {
   "cell_type": "code",
   "execution_count": 20,
   "id": "c9dc927b",
   "metadata": {},
   "outputs": [
    {
     "data": {
      "text/plain": [
       "array(['a0f9e8a9-1c7c-11ec-8d25-16262ee38c7f',\n",
       "       'a0f9e9f9-1c7c-11ec-b565-16262ee38c7f',\n",
       "       'a0f9ea43-1c7c-11ec-aa10-16262ee38c7f', ...,\n",
       "       'a102726b-1c7c-11ec-bfbf-16262ee38c7f',\n",
       "       'a102729b-1c7c-11ec-86ba-16262ee38c7f',\n",
       "       'a10272c9-1c7c-11ec-b3ce-16262ee38c7f'], dtype=object)"
      ]
     },
     "execution_count": 20,
     "metadata": {},
     "output_type": "execute_result"
    }
   ],
   "source": [
    "df['Patient-Uid'].unique()"
   ]
  },
  {
   "cell_type": "code",
   "execution_count": 21,
   "id": "89662a84",
   "metadata": {},
   "outputs": [],
   "source": [
    "df.to_csv('test.csv', index = True)"
   ]
  }
 ],
 "metadata": {
  "kernelspec": {
   "display_name": "Python 3 (ipykernel)",
   "language": "python",
   "name": "python3"
  },
  "language_info": {
   "codemirror_mode": {
    "name": "ipython",
    "version": 3
   },
   "file_extension": ".py",
   "mimetype": "text/x-python",
   "name": "python",
   "nbconvert_exporter": "python",
   "pygments_lexer": "ipython3",
   "version": "3.9.13"
  }
 },
 "nbformat": 4,
 "nbformat_minor": 5
}
