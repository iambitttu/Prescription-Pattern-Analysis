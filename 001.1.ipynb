{
 "cells": [
  {
   "cell_type": "code",
   "execution_count": 1,
   "id": "ac3efe85",
   "metadata": {},
   "outputs": [
    {
     "name": "stdout",
     "output_type": "stream",
     "text": [
      "Requirement already satisfied: pyarrow in c:\\users\\bittu\\anaconda3\\lib\\site-packages (10.0.1)\n",
      "Requirement already satisfied: numpy>=1.16.6 in c:\\users\\bittu\\anaconda3\\lib\\site-packages (from pyarrow) (1.21.5)\n",
      "Note: you may need to restart the kernel to use updated packages.\n"
     ]
    }
   ],
   "source": [
    "pip install pyarrow"
   ]
  },
  {
   "cell_type": "code",
   "execution_count": 2,
   "id": "4f12e073",
   "metadata": {},
   "outputs": [
    {
     "name": "stdout",
     "output_type": "stream",
     "text": [
      "<pyarrow._parquet.ParquetSchema object at 0x0000025F3C417180>\n",
      "required group field_id=-1 schema {\n",
      "  optional binary field_id=-1 Patient-Uid (String);\n",
      "  optional int64 field_id=-1 Date (Timestamp(isAdjustedToUTC=false, timeUnit=microseconds, is_from_converted_type=false, force_set_converted_type=false));\n",
      "  optional binary field_id=-1 Incident (String);\n",
      "  optional int64 field_id=-1 __index_level_0__;\n",
      "}\n",
      "\n",
      "                                   Patient-Uid       Date           Incident\n",
      "0         a0db1e73-1c7c-11ec-ae39-16262ee38c7f 2019-03-09  PRIMARY_DIAGNOSIS\n",
      "1         a0dc93f2-1c7c-11ec-9cd2-16262ee38c7f 2015-05-16  PRIMARY_DIAGNOSIS\n",
      "3         a0dc94c6-1c7c-11ec-a3a0-16262ee38c7f 2018-01-30     SYMPTOM_TYPE_0\n",
      "4         a0dc950b-1c7c-11ec-b6ec-16262ee38c7f 2015-04-22        DRUG_TYPE_0\n",
      "8         a0dc9543-1c7c-11ec-bb63-16262ee38c7f 2016-06-18        DRUG_TYPE_1\n",
      "...                                        ...        ...                ...\n",
      "29080886  a0ee9f75-1c7c-11ec-94c7-16262ee38c7f 2018-07-06        DRUG_TYPE_6\n",
      "29080897  a0ee1284-1c7c-11ec-a3d5-16262ee38c7f 2017-12-29        DRUG_TYPE_6\n",
      "29080900  a0ee9b26-1c7c-11ec-8a40-16262ee38c7f 2018-10-18       DRUG_TYPE_10\n",
      "29080903  a0ee1a92-1c7c-11ec-8341-16262ee38c7f 2015-09-18        DRUG_TYPE_6\n",
      "29080911  a0ee146e-1c7c-11ec-baee-16262ee38c7f 2018-10-05        DRUG_TYPE_1\n",
      "\n",
      "[3220868 rows x 3 columns]\n"
     ]
    }
   ],
   "source": [
    "import pyarrow.parquet as pq\n",
    "\n",
    "# Open the Parquet file\n",
    "parquet_file = pq.ParquetFile('train.parquet')\n",
    "\n",
    "# Read the metadata of the file\n",
    "metadata = parquet_file.metadata\n",
    "\n",
    "# Get the number of row groups in the file\n",
    "num_row_groups = metadata.num_row_groups\n",
    "\n",
    "# Read and print the schema of the Parquet file\n",
    "schema = metadata.schema\n",
    "print(schema)\n",
    "\n",
    "# Iterate over each row group and read the data\n",
    "for i in range(num_row_groups):\n",
    "    # Read a specific row group\n",
    "    row_group = parquet_file.read_row_group(i)\n",
    "\n",
    "    # Get the column names\n",
    "    column_names = row_group.schema.names\n",
    "\n",
    "    # Read the data from the row group\n",
    "    table = row_group.to_pandas()\n",
    "    print(table)\n"
   ]
  },
  {
   "cell_type": "code",
   "execution_count": 3,
   "id": "eba7e154",
   "metadata": {},
   "outputs": [
    {
     "data": {
      "text/plain": [
       "<pyarrow.parquet.core.ParquetFile at 0x25f3db46f10>"
      ]
     },
     "execution_count": 3,
     "metadata": {},
     "output_type": "execute_result"
    }
   ],
   "source": [
    "parquet_file"
   ]
  },
  {
   "cell_type": "code",
   "execution_count": 4,
   "id": "c11ccb5a",
   "metadata": {},
   "outputs": [
    {
     "data": {
      "text/plain": [
       "<pyarrow._parquet.FileMetaData object at 0x0000025F3DEA59F0>\n",
       "  created_by: parquet-cpp-arrow version 4.0.1\n",
       "  num_columns: 4\n",
       "  num_rows: 3220868\n",
       "  num_row_groups: 1\n",
       "  format_version: 1.0\n",
       "  serialized_size: 2925"
      ]
     },
     "execution_count": 4,
     "metadata": {},
     "output_type": "execute_result"
    }
   ],
   "source": [
    "metadata = parquet_file.metadata\n",
    "metadata"
   ]
  },
  {
   "cell_type": "code",
   "execution_count": 5,
   "id": "1669d9dc",
   "metadata": {},
   "outputs": [
    {
     "data": {
      "text/plain": [
       "1"
      ]
     },
     "execution_count": 5,
     "metadata": {},
     "output_type": "execute_result"
    }
   ],
   "source": [
    "num_row_groups = metadata.num_row_groups\n",
    "num_row_groups"
   ]
  },
  {
   "cell_type": "code",
   "execution_count": 6,
   "id": "2ac846e8",
   "metadata": {},
   "outputs": [
    {
     "name": "stdout",
     "output_type": "stream",
     "text": [
      "<pyarrow._parquet.ParquetSchema object at 0x0000025F3C417180>\n",
      "required group field_id=-1 schema {\n",
      "  optional binary field_id=-1 Patient-Uid (String);\n",
      "  optional int64 field_id=-1 Date (Timestamp(isAdjustedToUTC=false, timeUnit=microseconds, is_from_converted_type=false, force_set_converted_type=false));\n",
      "  optional binary field_id=-1 Incident (String);\n",
      "  optional int64 field_id=-1 __index_level_0__;\n",
      "}\n",
      "\n"
     ]
    }
   ],
   "source": [
    "schema = metadata.schema\n",
    "print(schema)"
   ]
  },
  {
   "cell_type": "code",
   "execution_count": 7,
   "id": "fb3061d6",
   "metadata": {},
   "outputs": [],
   "source": [
    "# Iterate over each row group and read the data\n",
    "for i in range(num_row_groups):\n",
    "    # Read a specific row group\n",
    "    row_group = parquet_file.read_row_group(i)"
   ]
  },
  {
   "cell_type": "code",
   "execution_count": 8,
   "id": "1322e64b",
   "metadata": {},
   "outputs": [
    {
     "data": {
      "text/plain": [
       "pyarrow.Table\n",
       "Patient-Uid: string\n",
       "Date: timestamp[us]\n",
       "Incident: string\n",
       "__index_level_0__: int64\n",
       "----\n",
       "Patient-Uid: [[\"a0db1e73-1c7c-11ec-ae39-16262ee38c7f\",\"a0dc93f2-1c7c-11ec-9cd2-16262ee38c7f\",\"a0dc94c6-1c7c-11ec-a3a0-16262ee38c7f\",\"a0dc950b-1c7c-11ec-b6ec-16262ee38c7f\",\"a0dc9543-1c7c-11ec-bb63-16262ee38c7f\",...,\"a0ee9f75-1c7c-11ec-94c7-16262ee38c7f\",\"a0ee1284-1c7c-11ec-a3d5-16262ee38c7f\",\"a0ee9b26-1c7c-11ec-8a40-16262ee38c7f\",\"a0ee1a92-1c7c-11ec-8341-16262ee38c7f\",\"a0ee146e-1c7c-11ec-baee-16262ee38c7f\"]]\n",
       "Date: [[2019-03-09 00:00:00.000000,2015-05-16 00:00:00.000000,2018-01-30 00:00:00.000000,2015-04-22 00:00:00.000000,2016-06-18 00:00:00.000000,...,2018-07-06 00:00:00.000000,2017-12-29 00:00:00.000000,2018-10-18 00:00:00.000000,2015-09-18 00:00:00.000000,2018-10-05 00:00:00.000000]]\n",
       "Incident: [[\"PRIMARY_DIAGNOSIS\",\"PRIMARY_DIAGNOSIS\",\"SYMPTOM_TYPE_0\",\"DRUG_TYPE_0\",\"DRUG_TYPE_1\",...,\"DRUG_TYPE_6\",\"DRUG_TYPE_6\",\"DRUG_TYPE_10\",\"DRUG_TYPE_6\",\"DRUG_TYPE_1\"]]\n",
       "__index_level_0__: [[0,1,3,4,8,...,29080886,29080897,29080900,29080903,29080911]]"
      ]
     },
     "execution_count": 8,
     "metadata": {},
     "output_type": "execute_result"
    }
   ],
   "source": [
    "row_group"
   ]
  },
  {
   "cell_type": "code",
   "execution_count": 9,
   "id": "ff75a248",
   "metadata": {},
   "outputs": [
    {
     "data": {
      "text/plain": [
       "['Patient-Uid', 'Date', 'Incident', '__index_level_0__']"
      ]
     },
     "execution_count": 9,
     "metadata": {},
     "output_type": "execute_result"
    }
   ],
   "source": [
    " # Get the column names\n",
    "column_names = row_group.schema.names\n",
    "column_names"
   ]
  },
  {
   "cell_type": "code",
   "execution_count": 10,
   "id": "a050858e",
   "metadata": {},
   "outputs": [
    {
     "name": "stdout",
     "output_type": "stream",
     "text": [
      "                                   Patient-Uid       Date           Incident\n",
      "0         a0db1e73-1c7c-11ec-ae39-16262ee38c7f 2019-03-09  PRIMARY_DIAGNOSIS\n",
      "1         a0dc93f2-1c7c-11ec-9cd2-16262ee38c7f 2015-05-16  PRIMARY_DIAGNOSIS\n",
      "3         a0dc94c6-1c7c-11ec-a3a0-16262ee38c7f 2018-01-30     SYMPTOM_TYPE_0\n",
      "4         a0dc950b-1c7c-11ec-b6ec-16262ee38c7f 2015-04-22        DRUG_TYPE_0\n",
      "8         a0dc9543-1c7c-11ec-bb63-16262ee38c7f 2016-06-18        DRUG_TYPE_1\n",
      "...                                        ...        ...                ...\n",
      "29080886  a0ee9f75-1c7c-11ec-94c7-16262ee38c7f 2018-07-06        DRUG_TYPE_6\n",
      "29080897  a0ee1284-1c7c-11ec-a3d5-16262ee38c7f 2017-12-29        DRUG_TYPE_6\n",
      "29080900  a0ee9b26-1c7c-11ec-8a40-16262ee38c7f 2018-10-18       DRUG_TYPE_10\n",
      "29080903  a0ee1a92-1c7c-11ec-8341-16262ee38c7f 2015-09-18        DRUG_TYPE_6\n",
      "29080911  a0ee146e-1c7c-11ec-baee-16262ee38c7f 2018-10-05        DRUG_TYPE_1\n",
      "\n",
      "[3220868 rows x 3 columns]\n"
     ]
    }
   ],
   "source": [
    "table = row_group.to_pandas()\n",
    "print(table)\n"
   ]
  },
  {
   "cell_type": "code",
   "execution_count": 11,
   "id": "c3d8f38b",
   "metadata": {},
   "outputs": [],
   "source": [
    "import pandas as pd\n",
    "df = pd.DataFrame(table)"
   ]
  },
  {
   "cell_type": "code",
   "execution_count": 12,
   "id": "2a516397",
   "metadata": {},
   "outputs": [
    {
     "data": {
      "text/html": [
       "<div>\n",
       "<style scoped>\n",
       "    .dataframe tbody tr th:only-of-type {\n",
       "        vertical-align: middle;\n",
       "    }\n",
       "\n",
       "    .dataframe tbody tr th {\n",
       "        vertical-align: top;\n",
       "    }\n",
       "\n",
       "    .dataframe thead th {\n",
       "        text-align: right;\n",
       "    }\n",
       "</style>\n",
       "<table border=\"1\" class=\"dataframe\">\n",
       "  <thead>\n",
       "    <tr style=\"text-align: right;\">\n",
       "      <th></th>\n",
       "      <th>Patient-Uid</th>\n",
       "      <th>Date</th>\n",
       "      <th>Incident</th>\n",
       "    </tr>\n",
       "  </thead>\n",
       "  <tbody>\n",
       "    <tr>\n",
       "      <th>0</th>\n",
       "      <td>a0db1e73-1c7c-11ec-ae39-16262ee38c7f</td>\n",
       "      <td>2019-03-09</td>\n",
       "      <td>PRIMARY_DIAGNOSIS</td>\n",
       "    </tr>\n",
       "    <tr>\n",
       "      <th>1</th>\n",
       "      <td>a0dc93f2-1c7c-11ec-9cd2-16262ee38c7f</td>\n",
       "      <td>2015-05-16</td>\n",
       "      <td>PRIMARY_DIAGNOSIS</td>\n",
       "    </tr>\n",
       "    <tr>\n",
       "      <th>3</th>\n",
       "      <td>a0dc94c6-1c7c-11ec-a3a0-16262ee38c7f</td>\n",
       "      <td>2018-01-30</td>\n",
       "      <td>SYMPTOM_TYPE_0</td>\n",
       "    </tr>\n",
       "    <tr>\n",
       "      <th>4</th>\n",
       "      <td>a0dc950b-1c7c-11ec-b6ec-16262ee38c7f</td>\n",
       "      <td>2015-04-22</td>\n",
       "      <td>DRUG_TYPE_0</td>\n",
       "    </tr>\n",
       "    <tr>\n",
       "      <th>8</th>\n",
       "      <td>a0dc9543-1c7c-11ec-bb63-16262ee38c7f</td>\n",
       "      <td>2016-06-18</td>\n",
       "      <td>DRUG_TYPE_1</td>\n",
       "    </tr>\n",
       "    <tr>\n",
       "      <th>...</th>\n",
       "      <td>...</td>\n",
       "      <td>...</td>\n",
       "      <td>...</td>\n",
       "    </tr>\n",
       "    <tr>\n",
       "      <th>29080886</th>\n",
       "      <td>a0ee9f75-1c7c-11ec-94c7-16262ee38c7f</td>\n",
       "      <td>2018-07-06</td>\n",
       "      <td>DRUG_TYPE_6</td>\n",
       "    </tr>\n",
       "    <tr>\n",
       "      <th>29080897</th>\n",
       "      <td>a0ee1284-1c7c-11ec-a3d5-16262ee38c7f</td>\n",
       "      <td>2017-12-29</td>\n",
       "      <td>DRUG_TYPE_6</td>\n",
       "    </tr>\n",
       "    <tr>\n",
       "      <th>29080900</th>\n",
       "      <td>a0ee9b26-1c7c-11ec-8a40-16262ee38c7f</td>\n",
       "      <td>2018-10-18</td>\n",
       "      <td>DRUG_TYPE_10</td>\n",
       "    </tr>\n",
       "    <tr>\n",
       "      <th>29080903</th>\n",
       "      <td>a0ee1a92-1c7c-11ec-8341-16262ee38c7f</td>\n",
       "      <td>2015-09-18</td>\n",
       "      <td>DRUG_TYPE_6</td>\n",
       "    </tr>\n",
       "    <tr>\n",
       "      <th>29080911</th>\n",
       "      <td>a0ee146e-1c7c-11ec-baee-16262ee38c7f</td>\n",
       "      <td>2018-10-05</td>\n",
       "      <td>DRUG_TYPE_1</td>\n",
       "    </tr>\n",
       "  </tbody>\n",
       "</table>\n",
       "<p>3220868 rows × 3 columns</p>\n",
       "</div>"
      ],
      "text/plain": [
       "                                   Patient-Uid       Date           Incident\n",
       "0         a0db1e73-1c7c-11ec-ae39-16262ee38c7f 2019-03-09  PRIMARY_DIAGNOSIS\n",
       "1         a0dc93f2-1c7c-11ec-9cd2-16262ee38c7f 2015-05-16  PRIMARY_DIAGNOSIS\n",
       "3         a0dc94c6-1c7c-11ec-a3a0-16262ee38c7f 2018-01-30     SYMPTOM_TYPE_0\n",
       "4         a0dc950b-1c7c-11ec-b6ec-16262ee38c7f 2015-04-22        DRUG_TYPE_0\n",
       "8         a0dc9543-1c7c-11ec-bb63-16262ee38c7f 2016-06-18        DRUG_TYPE_1\n",
       "...                                        ...        ...                ...\n",
       "29080886  a0ee9f75-1c7c-11ec-94c7-16262ee38c7f 2018-07-06        DRUG_TYPE_6\n",
       "29080897  a0ee1284-1c7c-11ec-a3d5-16262ee38c7f 2017-12-29        DRUG_TYPE_6\n",
       "29080900  a0ee9b26-1c7c-11ec-8a40-16262ee38c7f 2018-10-18       DRUG_TYPE_10\n",
       "29080903  a0ee1a92-1c7c-11ec-8341-16262ee38c7f 2015-09-18        DRUG_TYPE_6\n",
       "29080911  a0ee146e-1c7c-11ec-baee-16262ee38c7f 2018-10-05        DRUG_TYPE_1\n",
       "\n",
       "[3220868 rows x 3 columns]"
      ]
     },
     "execution_count": 12,
     "metadata": {},
     "output_type": "execute_result"
    }
   ],
   "source": [
    "df"
   ]
  },
  {
   "cell_type": "code",
   "execution_count": 13,
   "id": "49beb707",
   "metadata": {},
   "outputs": [
    {
     "name": "stdout",
     "output_type": "stream",
     "text": [
      "<class 'pandas.core.frame.DataFrame'>\n",
      "Int64Index: 3220868 entries, 0 to 29080911\n",
      "Data columns (total 3 columns):\n",
      " #   Column       Dtype         \n",
      "---  ------       -----         \n",
      " 0   Patient-Uid  object        \n",
      " 1   Date         datetime64[ns]\n",
      " 2   Incident     object        \n",
      "dtypes: datetime64[ns](1), object(2)\n",
      "memory usage: 98.3+ MB\n"
     ]
    }
   ],
   "source": [
    "df.info()"
   ]
  },
  {
   "cell_type": "code",
   "execution_count": 14,
   "id": "9f8f6645",
   "metadata": {},
   "outputs": [
    {
     "name": "stderr",
     "output_type": "stream",
     "text": [
      "C:\\Users\\bittu\\AppData\\Local\\Temp\\ipykernel_27264\\3627053830.py:1: FutureWarning: Treating datetime data as categorical rather than numeric in `.describe` is deprecated and will be removed in a future version of pandas. Specify `datetime_is_numeric=True` to silence this warning and adopt the future behavior now.\n",
      "  df.describe()\n"
     ]
    },
    {
     "data": {
      "text/html": [
       "<div>\n",
       "<style scoped>\n",
       "    .dataframe tbody tr th:only-of-type {\n",
       "        vertical-align: middle;\n",
       "    }\n",
       "\n",
       "    .dataframe tbody tr th {\n",
       "        vertical-align: top;\n",
       "    }\n",
       "\n",
       "    .dataframe thead th {\n",
       "        text-align: right;\n",
       "    }\n",
       "</style>\n",
       "<table border=\"1\" class=\"dataframe\">\n",
       "  <thead>\n",
       "    <tr style=\"text-align: right;\">\n",
       "      <th></th>\n",
       "      <th>Patient-Uid</th>\n",
       "      <th>Date</th>\n",
       "      <th>Incident</th>\n",
       "    </tr>\n",
       "  </thead>\n",
       "  <tbody>\n",
       "    <tr>\n",
       "      <th>count</th>\n",
       "      <td>3220868</td>\n",
       "      <td>3220868</td>\n",
       "      <td>3220868</td>\n",
       "    </tr>\n",
       "    <tr>\n",
       "      <th>unique</th>\n",
       "      <td>27033</td>\n",
       "      <td>1977</td>\n",
       "      <td>57</td>\n",
       "    </tr>\n",
       "    <tr>\n",
       "      <th>top</th>\n",
       "      <td>a0ddfd2c-1c7c-11ec-876d-16262ee38c7f</td>\n",
       "      <td>2019-05-21 00:00:00</td>\n",
       "      <td>DRUG_TYPE_6</td>\n",
       "    </tr>\n",
       "    <tr>\n",
       "      <th>freq</th>\n",
       "      <td>1645</td>\n",
       "      <td>3678</td>\n",
       "      <td>561934</td>\n",
       "    </tr>\n",
       "    <tr>\n",
       "      <th>first</th>\n",
       "      <td>NaN</td>\n",
       "      <td>2015-04-07 00:00:00</td>\n",
       "      <td>NaN</td>\n",
       "    </tr>\n",
       "    <tr>\n",
       "      <th>last</th>\n",
       "      <td>NaN</td>\n",
       "      <td>2020-09-03 00:00:00</td>\n",
       "      <td>NaN</td>\n",
       "    </tr>\n",
       "  </tbody>\n",
       "</table>\n",
       "</div>"
      ],
      "text/plain": [
       "                                 Patient-Uid                 Date     Incident\n",
       "count                                3220868              3220868      3220868\n",
       "unique                                 27033                 1977           57\n",
       "top     a0ddfd2c-1c7c-11ec-876d-16262ee38c7f  2019-05-21 00:00:00  DRUG_TYPE_6\n",
       "freq                                    1645                 3678       561934\n",
       "first                                    NaN  2015-04-07 00:00:00          NaN\n",
       "last                                     NaN  2020-09-03 00:00:00          NaN"
      ]
     },
     "execution_count": 14,
     "metadata": {},
     "output_type": "execute_result"
    }
   ],
   "source": [
    "df.describe()"
   ]
  },
  {
   "cell_type": "code",
   "execution_count": 15,
   "id": "59a52f2a",
   "metadata": {},
   "outputs": [
    {
     "data": {
      "text/plain": [
       "Patient-Uid    0\n",
       "Date           0\n",
       "Incident       0\n",
       "dtype: int64"
      ]
     },
     "execution_count": 15,
     "metadata": {},
     "output_type": "execute_result"
    }
   ],
   "source": [
    "df.isnull().sum()"
   ]
  },
  {
   "cell_type": "code",
   "execution_count": 16,
   "id": "a88d559e",
   "metadata": {},
   "outputs": [
    {
     "data": {
      "text/plain": [
       "Patient-Uid                           Date        Incident   \n",
       "a0efafa8-1c7c-11ec-9d1b-16262ee38c7f  2020-01-07  DRUG_TYPE_6    7\n",
       "a0df8e7b-1c7c-11ec-b86c-16262ee38c7f  2017-02-03  DRUG_TYPE_6    7\n",
       "a0e0d623-1c7c-11ec-bac3-16262ee38c7f  2020-05-14  DRUG_TYPE_6    7\n",
       "a0efc2b9-1c7c-11ec-acbe-16262ee38c7f  2020-03-20  DRUG_TYPE_6    6\n",
       "a0ef9541-1c7c-11ec-b3fb-16262ee38c7f  2019-05-01  DRUG_TYPE_6    6\n",
       "                                                                ..\n",
       "a0e3e997-1c7c-11ec-8f39-16262ee38c7f  2018-11-28  DRUG_TYPE_7    1\n",
       "                                      2018-12-15  TEST_TYPE_1    1\n",
       "                                      2019-02-14  DRUG_TYPE_1    1\n",
       "                                      2019-03-13  DRUG_TYPE_0    1\n",
       "a0f0d582-1c7c-11ec-a6c1-16262ee38c7f  2020-08-08  DRUG_TYPE_5    1\n",
       "Length: 3185297, dtype: int64"
      ]
     },
     "execution_count": 16,
     "metadata": {},
     "output_type": "execute_result"
    }
   ],
   "source": [
    "df.value_counts()"
   ]
  },
  {
   "cell_type": "code",
   "execution_count": 17,
   "id": "9a582b9a",
   "metadata": {},
   "outputs": [
    {
     "data": {
      "text/plain": [
       "Index(['Patient-Uid', 'Date', 'Incident'], dtype='object')"
      ]
     },
     "execution_count": 17,
     "metadata": {},
     "output_type": "execute_result"
    }
   ],
   "source": [
    "df.columns"
   ]
  },
  {
   "cell_type": "code",
   "execution_count": 18,
   "id": "57d14d46",
   "metadata": {},
   "outputs": [
    {
     "data": {
      "text/plain": [
       "Patient-Uid    27033\n",
       "Date            1977\n",
       "Incident          57\n",
       "dtype: int64"
      ]
     },
     "execution_count": 18,
     "metadata": {},
     "output_type": "execute_result"
    }
   ],
   "source": [
    "df.nunique()"
   ]
  },
  {
   "cell_type": "code",
   "execution_count": 19,
   "id": "3c1a95c9",
   "metadata": {},
   "outputs": [
    {
     "data": {
      "text/html": [
       "<div>\n",
       "<style scoped>\n",
       "    .dataframe tbody tr th:only-of-type {\n",
       "        vertical-align: middle;\n",
       "    }\n",
       "\n",
       "    .dataframe tbody tr th {\n",
       "        vertical-align: top;\n",
       "    }\n",
       "\n",
       "    .dataframe thead th {\n",
       "        text-align: right;\n",
       "    }\n",
       "</style>\n",
       "<table border=\"1\" class=\"dataframe\">\n",
       "  <thead>\n",
       "    <tr style=\"text-align: right;\">\n",
       "      <th></th>\n",
       "      <th>Patient-Uid</th>\n",
       "      <th>Date</th>\n",
       "      <th>Incident</th>\n",
       "    </tr>\n",
       "  </thead>\n",
       "  <tbody>\n",
       "    <tr>\n",
       "      <th>18390519</th>\n",
       "      <td>a0e9f9de-1c7c-11ec-b61c-16262ee38c7f</td>\n",
       "      <td>2018-02-16</td>\n",
       "      <td>DRUG_TYPE_8</td>\n",
       "    </tr>\n",
       "    <tr>\n",
       "      <th>22111194</th>\n",
       "      <td>a0eb8ef1-1c7c-11ec-b610-16262ee38c7f</td>\n",
       "      <td>2017-11-20</td>\n",
       "      <td>DRUG_TYPE_6</td>\n",
       "    </tr>\n",
       "    <tr>\n",
       "      <th>20704955</th>\n",
       "      <td>a0ef60b7-1c7c-11ec-bcbc-16262ee38c7f</td>\n",
       "      <td>2017-04-20</td>\n",
       "      <td>DRUG_TYPE_6</td>\n",
       "    </tr>\n",
       "    <tr>\n",
       "      <th>2495251</th>\n",
       "      <td>a0edc181-1c7c-11ec-a6cf-16262ee38c7f</td>\n",
       "      <td>2016-09-23</td>\n",
       "      <td>PRIMARY_DIAGNOSIS</td>\n",
       "    </tr>\n",
       "    <tr>\n",
       "      <th>24430973</th>\n",
       "      <td>a0f0be87-1c7c-11ec-9f15-16262ee38c7f</td>\n",
       "      <td>2020-02-04</td>\n",
       "      <td>DRUG_TYPE_6</td>\n",
       "    </tr>\n",
       "    <tr>\n",
       "      <th>1190923</th>\n",
       "      <td>a0e7512d-1c7c-11ec-8864-16262ee38c7f</td>\n",
       "      <td>2018-04-26</td>\n",
       "      <td>DRUG_TYPE_1</td>\n",
       "    </tr>\n",
       "    <tr>\n",
       "      <th>23978568</th>\n",
       "      <td>a0ec67ff-1c7c-11ec-a67d-16262ee38c7f</td>\n",
       "      <td>2015-12-10</td>\n",
       "      <td>DRUG_TYPE_0</td>\n",
       "    </tr>\n",
       "    <tr>\n",
       "      <th>2982024</th>\n",
       "      <td>a0e8e745-1c7c-11ec-a620-16262ee38c7f</td>\n",
       "      <td>2018-10-11</td>\n",
       "      <td>DRUG_TYPE_6</td>\n",
       "    </tr>\n",
       "    <tr>\n",
       "      <th>20320551</th>\n",
       "      <td>a0ee8408-1c7c-11ec-95b3-16262ee38c7f</td>\n",
       "      <td>2018-04-12</td>\n",
       "      <td>DRUG_TYPE_1</td>\n",
       "    </tr>\n",
       "    <tr>\n",
       "      <th>418277</th>\n",
       "      <td>a0e9d181-1c7c-11ec-9c70-16262ee38c7f</td>\n",
       "      <td>2017-04-13</td>\n",
       "      <td>SYMPTOM_TYPE_16</td>\n",
       "    </tr>\n",
       "    <tr>\n",
       "      <th>2660645</th>\n",
       "      <td>a0e36af6-1c7c-11ec-8b82-16262ee38c7f</td>\n",
       "      <td>2016-11-12</td>\n",
       "      <td>DRUG_TYPE_8</td>\n",
       "    </tr>\n",
       "    <tr>\n",
       "      <th>20047388</th>\n",
       "      <td>a0eb57a9-1c7c-11ec-a02f-16262ee38c7f</td>\n",
       "      <td>2016-06-27</td>\n",
       "      <td>DRUG_TYPE_6</td>\n",
       "    </tr>\n",
       "    <tr>\n",
       "      <th>3029942</th>\n",
       "      <td>a0e5c090-1c7c-11ec-8b11-16262ee38c7f</td>\n",
       "      <td>2015-05-16</td>\n",
       "      <td>DRUG_TYPE_1</td>\n",
       "    </tr>\n",
       "    <tr>\n",
       "      <th>22630799</th>\n",
       "      <td>a0ef3fcc-1c7c-11ec-84ef-16262ee38c7f</td>\n",
       "      <td>2019-07-31</td>\n",
       "      <td>DRUG_TYPE_0</td>\n",
       "    </tr>\n",
       "    <tr>\n",
       "      <th>66148</th>\n",
       "      <td>a0eb1da4-1c7c-11ec-863c-16262ee38c7f</td>\n",
       "      <td>2019-04-25</td>\n",
       "      <td>PRIMARY_DIAGNOSIS</td>\n",
       "    </tr>\n",
       "    <tr>\n",
       "      <th>1166395</th>\n",
       "      <td>a0e52299-1c7c-11ec-8c22-16262ee38c7f</td>\n",
       "      <td>2017-05-12</td>\n",
       "      <td>DRUG_TYPE_8</td>\n",
       "    </tr>\n",
       "    <tr>\n",
       "      <th>20651984</th>\n",
       "      <td>a0ea2482-1c7c-11ec-bb11-16262ee38c7f</td>\n",
       "      <td>2019-03-16</td>\n",
       "      <td>DRUG_TYPE_14</td>\n",
       "    </tr>\n",
       "    <tr>\n",
       "      <th>558480</th>\n",
       "      <td>a0de8c56-1c7c-11ec-bd1c-16262ee38c7f</td>\n",
       "      <td>2016-08-23</td>\n",
       "      <td>DRUG_TYPE_1</td>\n",
       "    </tr>\n",
       "    <tr>\n",
       "      <th>2615281</th>\n",
       "      <td>a0e8bce6-1c7c-11ec-9d7d-16262ee38c7f</td>\n",
       "      <td>2019-05-31</td>\n",
       "      <td>DRUG_TYPE_2</td>\n",
       "    </tr>\n",
       "    <tr>\n",
       "      <th>22342669</th>\n",
       "      <td>a0ea2972-1c7c-11ec-821c-16262ee38c7f</td>\n",
       "      <td>2017-07-08</td>\n",
       "      <td>DRUG_TYPE_2</td>\n",
       "    </tr>\n",
       "  </tbody>\n",
       "</table>\n",
       "</div>"
      ],
      "text/plain": [
       "                                   Patient-Uid       Date           Incident\n",
       "18390519  a0e9f9de-1c7c-11ec-b61c-16262ee38c7f 2018-02-16        DRUG_TYPE_8\n",
       "22111194  a0eb8ef1-1c7c-11ec-b610-16262ee38c7f 2017-11-20        DRUG_TYPE_6\n",
       "20704955  a0ef60b7-1c7c-11ec-bcbc-16262ee38c7f 2017-04-20        DRUG_TYPE_6\n",
       "2495251   a0edc181-1c7c-11ec-a6cf-16262ee38c7f 2016-09-23  PRIMARY_DIAGNOSIS\n",
       "24430973  a0f0be87-1c7c-11ec-9f15-16262ee38c7f 2020-02-04        DRUG_TYPE_6\n",
       "1190923   a0e7512d-1c7c-11ec-8864-16262ee38c7f 2018-04-26        DRUG_TYPE_1\n",
       "23978568  a0ec67ff-1c7c-11ec-a67d-16262ee38c7f 2015-12-10        DRUG_TYPE_0\n",
       "2982024   a0e8e745-1c7c-11ec-a620-16262ee38c7f 2018-10-11        DRUG_TYPE_6\n",
       "20320551  a0ee8408-1c7c-11ec-95b3-16262ee38c7f 2018-04-12        DRUG_TYPE_1\n",
       "418277    a0e9d181-1c7c-11ec-9c70-16262ee38c7f 2017-04-13    SYMPTOM_TYPE_16\n",
       "2660645   a0e36af6-1c7c-11ec-8b82-16262ee38c7f 2016-11-12        DRUG_TYPE_8\n",
       "20047388  a0eb57a9-1c7c-11ec-a02f-16262ee38c7f 2016-06-27        DRUG_TYPE_6\n",
       "3029942   a0e5c090-1c7c-11ec-8b11-16262ee38c7f 2015-05-16        DRUG_TYPE_1\n",
       "22630799  a0ef3fcc-1c7c-11ec-84ef-16262ee38c7f 2019-07-31        DRUG_TYPE_0\n",
       "66148     a0eb1da4-1c7c-11ec-863c-16262ee38c7f 2019-04-25  PRIMARY_DIAGNOSIS\n",
       "1166395   a0e52299-1c7c-11ec-8c22-16262ee38c7f 2017-05-12        DRUG_TYPE_8\n",
       "20651984  a0ea2482-1c7c-11ec-bb11-16262ee38c7f 2019-03-16       DRUG_TYPE_14\n",
       "558480    a0de8c56-1c7c-11ec-bd1c-16262ee38c7f 2016-08-23        DRUG_TYPE_1\n",
       "2615281   a0e8bce6-1c7c-11ec-9d7d-16262ee38c7f 2019-05-31        DRUG_TYPE_2\n",
       "22342669  a0ea2972-1c7c-11ec-821c-16262ee38c7f 2017-07-08        DRUG_TYPE_2"
      ]
     },
     "execution_count": 19,
     "metadata": {},
     "output_type": "execute_result"
    }
   ],
   "source": [
    "df.sample(20)"
   ]
  },
  {
   "cell_type": "code",
   "execution_count": 20,
   "id": "e84f3514",
   "metadata": {},
   "outputs": [
    {
     "data": {
      "text/plain": [
       "array(['PRIMARY_DIAGNOSIS', 'SYMPTOM_TYPE_0', 'DRUG_TYPE_0',\n",
       "       'DRUG_TYPE_1', 'DRUG_TYPE_2', 'TEST_TYPE_0', 'DRUG_TYPE_3',\n",
       "       'DRUG_TYPE_4', 'DRUG_TYPE_5', 'DRUG_TYPE_6', 'DRUG_TYPE_8',\n",
       "       'DRUG_TYPE_7', 'SYMPTOM_TYPE_1', 'DRUG_TYPE_10', 'SYMPTOM_TYPE_29',\n",
       "       'SYMPTOM_TYPE_2', 'DRUG_TYPE_11', 'DRUG_TYPE_9', 'DRUG_TYPE_13',\n",
       "       'SYMPTOM_TYPE_5', 'TEST_TYPE_1', 'SYMPTOM_TYPE_6', 'TEST_TYPE_2',\n",
       "       'SYMPTOM_TYPE_3', 'SYMPTOM_TYPE_8', 'DRUG_TYPE_14', 'DRUG_TYPE_12',\n",
       "       'SYMPTOM_TYPE_9', 'SYMPTOM_TYPE_10', 'SYMPTOM_TYPE_7',\n",
       "       'SYMPTOM_TYPE_11', 'TEST_TYPE_3', 'DRUG_TYPE_15', 'SYMPTOM_TYPE_4',\n",
       "       'SYMPTOM_TYPE_14', 'SYMPTOM_TYPE_13', 'SYMPTOM_TYPE_16',\n",
       "       'SYMPTOM_TYPE_17', 'SYMPTOM_TYPE_15', 'SYMPTOM_TYPE_18',\n",
       "       'SYMPTOM_TYPE_12', 'SYMPTOM_TYPE_20', 'SYMPTOM_TYPE_21',\n",
       "       'DRUG_TYPE_17', 'SYMPTOM_TYPE_22', 'TEST_TYPE_4',\n",
       "       'SYMPTOM_TYPE_23', 'DRUG_TYPE_16', 'TEST_TYPE_5',\n",
       "       'SYMPTOM_TYPE_19', 'SYMPTOM_TYPE_24', 'SYMPTOM_TYPE_25',\n",
       "       'SYMPTOM_TYPE_26', 'SYMPTOM_TYPE_27', 'DRUG_TYPE_18',\n",
       "       'SYMPTOM_TYPE_28', 'TARGET DRUG'], dtype=object)"
      ]
     },
     "execution_count": 20,
     "metadata": {},
     "output_type": "execute_result"
    }
   ],
   "source": [
    "df.Incident.unique()"
   ]
  },
  {
   "cell_type": "code",
   "execution_count": 27,
   "id": "28e9136c",
   "metadata": {},
   "outputs": [
    {
     "data": {
      "text/plain": [
       "DRUG_TYPE_6          561934\n",
       "DRUG_TYPE_1          484666\n",
       "PRIMARY_DIAGNOSIS    431902\n",
       "DRUG_TYPE_0          300005\n",
       "DRUG_TYPE_7          258782\n",
       "DRUG_TYPE_2          256841\n",
       "DRUG_TYPE_8          160066\n",
       "DRUG_TYPE_3          127676\n",
       "TEST_TYPE_1           96810\n",
       "TARGET DRUG           67218\n",
       "DRUG_TYPE_9           66894\n",
       "DRUG_TYPE_5           57510\n",
       "DRUG_TYPE_11          48118\n",
       "SYMPTOM_TYPE_0        46078\n",
       "SYMPTOM_TYPE_6        32066\n",
       "TEST_TYPE_0           27570\n",
       "SYMPTOM_TYPE_7        22019\n",
       "DRUG_TYPE_10          20925\n",
       "DRUG_TYPE_14          17306\n",
       "DRUG_TYPE_13          12372\n",
       "DRUG_TYPE_12           9551\n",
       "SYMPTOM_TYPE_14        8927\n",
       "SYMPTOM_TYPE_1         8608\n",
       "SYMPTOM_TYPE_2         8168\n",
       "TEST_TYPE_3            8115\n",
       "SYMPTOM_TYPE_5         7583\n",
       "SYMPTOM_TYPE_8         7430\n",
       "TEST_TYPE_2            7021\n",
       "SYMPTOM_TYPE_15        6295\n",
       "SYMPTOM_TYPE_10        6005\n",
       "SYMPTOM_TYPE_29        5950\n",
       "SYMPTOM_TYPE_16        4940\n",
       "DRUG_TYPE_15           4906\n",
       "SYMPTOM_TYPE_9         4885\n",
       "DRUG_TYPE_4            4566\n",
       "SYMPTOM_TYPE_4         4115\n",
       "SYMPTOM_TYPE_3         3931\n",
       "SYMPTOM_TYPE_12        2685\n",
       "SYMPTOM_TYPE_11        2483\n",
       "SYMPTOM_TYPE_17        2090\n",
       "SYMPTOM_TYPE_13        1541\n",
       "DRUG_TYPE_16           1145\n",
       "TEST_TYPE_4            1108\n",
       "SYMPTOM_TYPE_18         530\n",
       "SYMPTOM_TYPE_21         363\n",
       "SYMPTOM_TYPE_22         285\n",
       "SYMPTOM_TYPE_19         219\n",
       "DRUG_TYPE_17            214\n",
       "TEST_TYPE_5             137\n",
       "SYMPTOM_TYPE_24          97\n",
       "SYMPTOM_TYPE_26          63\n",
       "SYMPTOM_TYPE_23          54\n",
       "SYMPTOM_TYPE_20          53\n",
       "SYMPTOM_TYPE_27          21\n",
       "SYMPTOM_TYPE_25          18\n",
       "SYMPTOM_TYPE_28           7\n",
       "DRUG_TYPE_18              1\n",
       "Name: Incident, dtype: int64"
      ]
     },
     "execution_count": 27,
     "metadata": {},
     "output_type": "execute_result"
    }
   ],
   "source": [
    "df.Incident.value_counts()"
   ]
  },
  {
   "cell_type": "code",
   "execution_count": 21,
   "id": "1f851ad7",
   "metadata": {},
   "outputs": [
    {
     "data": {
      "text/plain": [
       "array(['a0db1e73-1c7c-11ec-ae39-16262ee38c7f',\n",
       "       'a0dc93f2-1c7c-11ec-9cd2-16262ee38c7f',\n",
       "       'a0dc94c6-1c7c-11ec-a3a0-16262ee38c7f', ...,\n",
       "       'a0f0d523-1c7c-11ec-89d2-16262ee38c7f',\n",
       "       'a0f0d553-1c7c-11ec-a70a-16262ee38c7f',\n",
       "       'a0f0d582-1c7c-11ec-a6c1-16262ee38c7f'], dtype=object)"
      ]
     },
     "execution_count": 21,
     "metadata": {},
     "output_type": "execute_result"
    }
   ],
   "source": [
    "df['Patient-Uid'].unique()"
   ]
  },
  {
   "cell_type": "code",
   "execution_count": 22,
   "id": "78825e4c",
   "metadata": {},
   "outputs": [
    {
     "data": {
      "text/plain": [
       "array(['2019-03-09T00:00:00.000000000', '2015-05-16T00:00:00.000000000',\n",
       "       '2018-01-30T00:00:00.000000000', ...,\n",
       "       '2017-03-19T00:00:00.000000000', '2018-10-21T00:00:00.000000000',\n",
       "       '2020-07-27T00:00:00.000000000'], dtype='datetime64[ns]')"
      ]
     },
     "execution_count": 22,
     "metadata": {},
     "output_type": "execute_result"
    }
   ],
   "source": [
    "df.Date.unique()"
   ]
  },
  {
   "cell_type": "code",
   "execution_count": 23,
   "id": "9d4d19e2",
   "metadata": {},
   "outputs": [],
   "source": [
    "df.to_csv('train.csv', index = True)"
   ]
  }
 ],
 "metadata": {
  "kernelspec": {
   "display_name": "Python 3 (ipykernel)",
   "language": "python",
   "name": "python3"
  },
  "language_info": {
   "codemirror_mode": {
    "name": "ipython",
    "version": 3
   },
   "file_extension": ".py",
   "mimetype": "text/x-python",
   "name": "python",
   "nbconvert_exporter": "python",
   "pygments_lexer": "ipython3",
   "version": "3.9.13"
  }
 },
 "nbformat": 4,
 "nbformat_minor": 5
}
